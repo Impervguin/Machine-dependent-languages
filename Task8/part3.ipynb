{
 "cells": [
  {
   "cell_type": "markdown",
   "metadata": {},
   "source": [
    "# График функции в третьей части задания"
   ]
  },
  {
   "cell_type": "code",
   "execution_count": null,
   "metadata": {},
   "outputs": [],
   "source": [
    "from numpy import sin, linspace\n",
    "import plotly.express as px\n",
    "\n",
    "def f(x):\n",
    "    return 2 * sin(x**2 - 5)\n",
    "\n",
    "a, b = -7, 7\n",
    "n_points = 1000\n",
    "x = linspace(a, b, n_points)\n",
    "\n",
    "fig = px.line(x=x, y=f(x))\n",
    "fig.show()\n"
   ]
  }
 ],
 "metadata": {
  "kernelspec": {
   "display_name": "Python 3",
   "language": "python",
   "name": "python3"
  },
  "language_info": {
   "codemirror_mode": {
    "name": "ipython",
    "version": 3
   },
   "file_extension": ".py",
   "mimetype": "text/x-python",
   "name": "python",
   "nbconvert_exporter": "python",
   "pygments_lexer": "ipython3",
   "version": "3.11.6"
  }
 },
 "nbformat": 4,
 "nbformat_minor": 2
}
